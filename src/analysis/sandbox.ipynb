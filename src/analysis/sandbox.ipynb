{
 "cells": [
  {
   "cell_type": "markdown",
   "metadata": {},
   "source": [
    "# Exploration"
   ]
  },
  {
   "cell_type": "code",
   "execution_count": 3,
   "metadata": {},
   "outputs": [
    {
     "name": "stdout",
     "output_type": "stream",
     "text": [
      "     Group     Team1        Team2     Team3        Team4\n",
      "0  Group A   Germany     Scotland   Hungary  Switzerland\n",
      "1  Group B     Spain      Croatia     Italy      Albania\n",
      "2  Group C  Slovenia      Denmark    Serbia      England\n",
      "3  Group D    Poland  Netherlands   Austria       France\n",
      "4  Group E   Belgium     Slovakia   Romania      Ukraine\n",
      "5  Group F   Türkiye      Georgia  Portugal      Czechia\n"
     ]
    }
   ],
   "source": [
    "import pandas as pd\n",
    "\n",
    "# Specify the path to the CSV file\n",
    "file_path = '../../data/processed/euro2024_groups.csv'\n",
    "\n",
    "# Load the CSV file into a pandas DataFrame\n",
    "groups_df = pd.read_csv(file_path)\n",
    "\n",
    "# Display the DataFrame to verify its contents\n",
    "print(groups_df)\n"
   ]
  },
  {
   "cell_type": "code",
   "execution_count": 5,
   "metadata": {},
   "outputs": [],
   "source": [
    "import requests\n",
    "from bs4 import BeautifulSoup"
   ]
  },
  {
   "cell_type": "code",
   "execution_count": 6,
   "metadata": {},
   "outputs": [],
   "source": [
    "def scrape_fourfourtwo(url):\n",
    "    # Send a GET request to the URL\n",
    "    response = requests.get(url)\n",
    "    print(response)\n",
    "    # Parse the HTML content of the page with BeautifulSoup\n",
    "    soup = BeautifulSoup(response.text, 'html.parser')\n",
    "    \n",
    "    # Find all article elements; you may need to adjust the tag and class based on the site's structure\n",
    "    articles = soup.find_all('article', class_='element')\n",
    "    \n",
    "    # Collect headlines and URLs\n",
    "    news_data = []\n",
    "    for article in articles:\n",
    "        headline = article.find('h2').text.strip() if article.find('h2') else 'No headline available'\n",
    "        link = article.find('a')['href'] if article.find('a') else 'No URL available'\n",
    "        news_data.append({'headline': headline, 'url': link})\n",
    "    \n",
    "    return news_data\n"
   ]
  },
  {
   "cell_type": "code",
   "execution_count": 12,
   "metadata": {},
   "outputs": [],
   "source": [
    "# URL of the FourFourTwo news section; adjust as necessary\n",
    "news_url = 'https://www.fourfourtwo.com/'\n",
    "news_articles = scrape_fourfourtwo(news_url)"
   ]
  },
  {
   "cell_type": "code",
   "execution_count": 9,
   "metadata": {},
   "outputs": [],
   "source": [
    "# Print the scraped data\n",
    "for article in news_articles:\n",
    "    print(article)"
   ]
  },
  {
   "cell_type": "code",
   "execution_count": 13,
   "metadata": {},
   "outputs": [
    {
     "data": {
      "text/plain": [
       "0"
      ]
     },
     "execution_count": 13,
     "metadata": {},
     "output_type": "execute_result"
    }
   ],
   "source": [
    "len(news_articles)"
   ]
  }
 ],
 "metadata": {
  "kernelspec": {
   "display_name": "euro_env",
   "language": "python",
   "name": "python3"
  },
  "language_info": {
   "codemirror_mode": {
    "name": "ipython",
    "version": 3
   },
   "file_extension": ".py",
   "mimetype": "text/x-python",
   "name": "python",
   "nbconvert_exporter": "python",
   "pygments_lexer": "ipython3",
   "version": "3.8.19"
  }
 },
 "nbformat": 4,
 "nbformat_minor": 2
}
