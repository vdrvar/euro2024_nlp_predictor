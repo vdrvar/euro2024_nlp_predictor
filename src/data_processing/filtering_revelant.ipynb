{
 "cells": [
  {
   "cell_type": "code",
   "execution_count": 1,
   "metadata": {},
   "outputs": [
    {
     "name": "stderr",
     "output_type": "stream",
     "text": [
      "/home/vdrvar/anaconda3/envs/euro_env/lib/python3.8/site-packages/tqdm/auto.py:21: TqdmWarning: IProgress not found. Please update jupyter and ipywidgets. See https://ipywidgets.readthedocs.io/en/stable/user_install.html\n",
      "  from .autonotebook import tqdm as notebook_tqdm\n"
     ]
    }
   ],
   "source": [
    "from transformers import AutoTokenizer, AutoModelForSequenceClassification\n",
    "import torch"
   ]
  },
  {
   "cell_type": "code",
   "execution_count": 2,
   "metadata": {},
   "outputs": [],
   "source": [
    "# Load tokenizer and model from Hugging Face\n",
    "tokenizer = AutoTokenizer.from_pretrained(\"DAMO-NLP-SG/zero-shot-classify-SSTuning-XLM-R\")\n",
    "model = AutoModelForSequenceClassification.from_pretrained(\"DAMO-NLP-SG/zero-shot-classify-SSTuning-XLM-R\")"
   ]
  },
  {
   "cell_type": "code",
   "execution_count": 10,
   "metadata": {},
   "outputs": [],
   "source": [
    "def classify_text(text, candidate_labels):\n",
    "    device = torch.device('cuda' if torch.cuda.is_available() else 'cpu')\n",
    "    model.to(device).eval()\n",
    "\n",
    "    # Prepare the text input for classification\n",
    "    encoded_input = tokenizer(text, return_tensors='pt', truncation=True, max_length=512)\n",
    "    encoded_input = {key: val.to(device) for key, val in encoded_input.items()}\n",
    "\n",
    "    # Perform inference\n",
    "    with torch.no_grad():\n",
    "        outputs = model(**encoded_input)\n",
    "        scores = torch.nn.functional.softmax(outputs.logits, dim=-1)\n",
    "    \n",
    "    results = {label: float(score) for label, score in zip(candidate_labels, scores[0])}\n",
    "    return results\n",
    "\n",
    "def filter_files(file_paths, relevant_label='relevant football article'):\n",
    "    relevant_files = []\n",
    "    candidate_labels = [\"relevant football article\", \"irrelevant content\"]\n",
    "\n",
    "    for file_path in file_paths:\n",
    "        with open(file_path, 'r', encoding='utf-8') as file:\n",
    "            text = file.read()\n",
    "\n",
    "        results = classify_text(text, candidate_labels)\n",
    "        print(results[relevant_label])\n",
    "        if results[relevant_label] > 0.1:  # Threshold can be adjusted\n",
    "            relevant_files.append(file_path)\n",
    "\n",
    "    return relevant_files\n"
   ]
  },
  {
   "cell_type": "code",
   "execution_count": null,
   "metadata": {},
   "outputs": [],
   "source": [
    "import os\n",
    "\n",
    "def get_all_file_paths(directory):\n",
    "    file_paths = []  # List to store file paths\n",
    "    for root, dirs, files in os.walk(directory):\n",
    "        for file in files:\n",
    "            file_path = os.path.join(root, file)\n",
    "            file_paths.append(file_path)\n",
    "    return file_paths"
   ]
  },
  {
   "cell_type": "code",
   "execution_count": 7,
   "metadata": {},
   "outputs": [
    {
     "name": "stdout",
     "output_type": "stream",
     "text": [
      "['../../data/raw/gazzetta_it/turismo-sportivo_eventi.txt', '../../data/raw/gazzetta_it/Calcio_Europei_26-03-2024_europei-galles-polonia-ucraina-islanda-georgia-grecia-per-gli-ultimi-3-posti.shtml.txt', '../../data/raw/gazzetta_it/Calcio_calcio-femminile.txt']\n"
     ]
    }
   ],
   "source": [
    "# Example usage:\n",
    "directory_path = '../../data/raw'\n",
    "all_file_paths = get_all_file_paths(directory_path)"
   ]
  },
  {
   "cell_type": "code",
   "execution_count": 12,
   "metadata": {},
   "outputs": [],
   "source": [
    "# Example usage:\n",
    "files_to_check = all_file_paths[:100]\n",
    "filtered_files = filter_files(files_to_check)\n",
    "print(\"Filtered files:\", filtered_files)"
   ]
  },
  {
   "cell_type": "code",
   "execution_count": null,
   "metadata": {},
   "outputs": [],
   "source": []
  }
 ],
 "metadata": {
  "kernelspec": {
   "display_name": "euro_env",
   "language": "python",
   "name": "python3"
  },
  "language_info": {
   "codemirror_mode": {
    "name": "ipython",
    "version": 3
   },
   "file_extension": ".py",
   "mimetype": "text/x-python",
   "name": "python",
   "nbconvert_exporter": "python",
   "pygments_lexer": "ipython3",
   "version": "3.8.19"
  }
 },
 "nbformat": 4,
 "nbformat_minor": 2
}
