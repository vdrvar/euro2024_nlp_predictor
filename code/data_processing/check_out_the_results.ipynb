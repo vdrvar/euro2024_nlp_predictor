{
 "cells": [
  {
   "cell_type": "markdown",
   "metadata": {},
   "source": [
    "### Loading the Saved Probabilities for Winning"
   ]
  },
  {
   "cell_type": "code",
   "execution_count": 2,
   "metadata": {},
   "outputs": [
    {
     "name": "stdout",
     "output_type": "stream",
     "text": [
      "Percentage scores loaded successfully:\n",
      "Portugal: 10.11%\n",
      "Georgia: 7.36%\n",
      "Albania: 7.22%\n",
      "Türkiye: 6.20%\n",
      "Scotland: 5.60%\n",
      "Germany: 5.18%\n",
      "Czechia: 5.08%\n",
      "Belgium: 4.72%\n",
      "Italy: 4.51%\n",
      "Hungary: 4.03%\n",
      "Slovenia: 4.00%\n",
      "Ukraine: 3.95%\n",
      "Denmark: 3.86%\n",
      "England: 3.68%\n",
      "France: 3.67%\n",
      "Poland: 3.19%\n",
      "Spain: 2.82%\n",
      "Slovakia: 2.53%\n",
      "Switzerland: 2.53%\n",
      "Austria: 2.40%\n",
      "Romania: 2.18%\n",
      "Serbia: 1.93%\n",
      "Netherlands: 1.75%\n",
      "Croatia: 1.49%\n"
     ]
    }
   ],
   "source": [
    "import pickle\n",
    "\n",
    "# Define the path to the pickle file\n",
    "input_path = \"../../data/percentage_scores.pkl\"\n",
    "\n",
    "# Load the pickle file\n",
    "with open(input_path, 'rb') as input_file:\n",
    "    percentage_scores = pickle.load(input_file)\n",
    "\n",
    "# Display the loaded data\n",
    "print(\"Percentage scores loaded successfully:\")\n",
    "for nation, percentage in percentage_scores.items():\n",
    "    print(f\"{nation}: {percentage:.2f}%\")\n"
   ]
  },
  {
   "cell_type": "code",
   "execution_count": null,
   "metadata": {},
   "outputs": [],
   "source": []
  }
 ],
 "metadata": {
  "kernelspec": {
   "display_name": "euro_env",
   "language": "python",
   "name": "python3"
  },
  "language_info": {
   "codemirror_mode": {
    "name": "ipython",
    "version": 3
   },
   "file_extension": ".py",
   "mimetype": "text/x-python",
   "name": "python",
   "nbconvert_exporter": "python",
   "pygments_lexer": "ipython3",
   "version": "3.8.19"
  }
 },
 "nbformat": 4,
 "nbformat_minor": 2
}
